{
 "cells": [
  {
   "cell_type": "markdown",
   "metadata": {},
   "source": [
    "# inheritance"
   ]
  },
  {
   "cell_type": "code",
   "execution_count": 5,
   "metadata": {},
   "outputs": [
    {
     "name": "stdout",
     "output_type": "stream",
     "text": [
      "animal speaks\n",
      "dog barks\n"
     ]
    }
   ],
   "source": [
    "class animal:\n",
    "    def sound(s):\n",
    "        print(\"animal speaks\")\n",
    "\n",
    "class Dog(animal):\n",
    "    def so(s):\n",
    "        print(\"dog barks\")\n",
    "\n",
    "dog=Dog()\n",
    "dog.sound()\n",
    "dog.so()"
   ]
  },
  {
   "cell_type": "markdown",
   "metadata": {},
   "source": [
    "# polymorphism"
   ]
  },
  {
   "cell_type": "code",
   "execution_count": 7,
   "metadata": {},
   "outputs": [
    {
     "name": "stdout",
     "output_type": "stream",
     "text": [
      "bird chirps\n",
      "cat meows\n"
     ]
    }
   ],
   "source": [
    "class bird:\n",
    "    def sound(self):\n",
    "        print(\"bird chirps\")\n",
    "\n",
    "class cat:\n",
    "    def sound(self):\n",
    "        print(\"cat meows\")\n",
    "\n",
    "\n",
    "a=bird()\n",
    "b=cat()\n",
    "\n",
    "a.sound()\n",
    "b.sound()"
   ]
  },
  {
   "cell_type": "code",
   "execution_count": 1,
   "metadata": {},
   "outputs": [],
   "source": [
    "file= open(\"puskar.txt\",\"w\")\n",
    "file.write(\"hello world\")\n",
    "file.close()\n"
   ]
  },
  {
   "cell_type": "code",
   "execution_count": 2,
   "metadata": {},
   "outputs": [
    {
     "name": "stdout",
     "output_type": "stream",
     "text": [
      "hello world\n"
     ]
    }
   ],
   "source": [
    "file= open(\"puskar.txt\",\"r\")\n",
    "c=file.read()\n",
    "print(c)\n",
    "file.close()"
   ]
  },
  {
   "cell_type": "code",
   "execution_count": 3,
   "metadata": {},
   "outputs": [
    {
     "name": "stdout",
     "output_type": "stream",
     "text": [
      "1\n",
      "1\n",
      "2\n",
      "1\n",
      "2\n",
      "3\n"
     ]
    }
   ],
   "source": [
    "\n",
    "for i in range(1,5):\n",
    "    for j in range(1,i):\n",
    "         print(end=\"\")\n",
    "         print(j)\n",
    "   "
   ]
  },
  {
   "cell_type": "markdown",
   "metadata": {},
   "source": [
    "# create s python class called student with attributes name ,grades [list] and a method average_grade() that calculates and returns the average of students grades\n",
    "\n"
   ]
  },
  {
   "cell_type": "code",
   "execution_count": 9,
   "metadata": {},
   "outputs": [
    {
     "name": "stdout",
     "output_type": "stream",
     "text": [
      "the averege marks obtained by c is 30.0\n"
     ]
    }
   ],
   "source": [
    "class student:\n",
    "    def put(s):\n",
    "        s.name=input(\"enter a name\")\n",
    "        s.grade=[20,30,40]\n",
    "    def avg(s):\n",
    "        a=sum(s.grade)\n",
    "        s.averege=a/3\n",
    "        print(f\"the averege marks obtained by {s.name} is {s.averege}\")\n",
    "\n",
    "step1=student()\n",
    "\n",
    "step1.put()\n",
    "step1.avg()\n"
   ]
  },
  {
   "cell_type": "code",
   "execution_count": 4,
   "metadata": {},
   "outputs": [
    {
     "name": "stdout",
     "output_type": "stream",
     "text": [
      "sq root of 4 is     2.0\n",
      "the value of pi is   3.141592653589793\n"
     ]
    }
   ],
   "source": [
    "import math\n",
    "print(\"sq root of 4 is    \",math.sqrt(4))\n",
    "print(\"the value of pi is  \",math.pi)\n"
   ]
  },
  {
   "cell_type": "code",
   "execution_count": 8,
   "metadata": {},
   "outputs": [
    {
     "name": "stdout",
     "output_type": "stream",
     "text": [
      "2024-12-16 10:28:45.312158\n"
     ]
    }
   ],
   "source": [
    "from datetime import datetime\n",
    "now=datetime.now()\n",
    "print(now)"
   ]
  },
  {
   "cell_type": "code",
   "execution_count": 2,
   "metadata": {},
   "outputs": [
    {
     "name": "stdout",
     "output_type": "stream",
     "text": [
      "numpy array: [1 2 3 4 5]\n",
      "numpy averege: 3.0\n"
     ]
    }
   ],
   "source": [
    "import numpy as np\n",
    "array = np.array([1,2,3,4,5])\n",
    "print(\"numpy array:\",array)\n",
    "print(\"numpy averege:\",np.mean(array))"
   ]
  },
  {
   "cell_type": "code",
   "execution_count": 5,
   "metadata": {},
   "outputs": [
    {
     "name": "stdout",
     "output_type": "stream",
     "text": [
      "    Name  Age\n",
      "0  alice   25\n",
      "1    bob   30\n"
     ]
    }
   ],
   "source": [
    "import pandas as pd\n",
    "data ={'Name': ['alice' ,'bob'] , 'Age':[25,30]}\n",
    "df=pd.DataFrame(data)\n",
    "print(df)"
   ]
  },
  {
   "cell_type": "code",
   "execution_count": 6,
   "metadata": {},
   "outputs": [
    {
     "data": {
      "image/png": "[encoded data removed]",
      "text/plain": [
       "<Figure size 640x480 with 1 Axes>"
      ]
     },
     "metadata": {},
     "output_type": "display_data"
    }
   ],
   "source": [
    "import matplotlib.pyplot as plt\n",
    "plt.plot([1,2,3], [4,5,6])\n",
    "plt.title(\"simple plot\")\n",
    "plt.show()\n"
   ]
  },
  {
   "cell_type": "code",
   "execution_count": null,
   "metadata": {},
   "outputs": [],
   "source": []
  }
 ],
 "metadata": {
  "kernelspec": {
   "display_name": "base",
   "language": "python",
   "name": "python3"
  },
  "language_info": {
   "codemirror_mode": {
    "name": "ipython",
    "version": 3
   },
   "file_extension": ".py",
   "mimetype": "text/x-python",
   "name": "python",
   "nbconvert_exporter": "python",
   "pygments_lexer": "ipython3",
   "version": "3.12.7"
  }
 },
 "nbformat": 4,
 "nbformat_minor": 2
}
